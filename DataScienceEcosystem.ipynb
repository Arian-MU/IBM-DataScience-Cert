{
 "cells": [
  {
   "cell_type": "markdown",
   "id": "437e4f61",
   "metadata": {},
   "source": [
    "# Data Science Tools and Ecosystem"
   ]
  },
  {
   "cell_type": "markdown",
   "id": "a9e0dd80",
   "metadata": {},
   "source": [
    "In this notebook, Data Science Tools and Ecosystem are summarized."
   ]
  },
  {
   "cell_type": "markdown",
   "id": "7e199879",
   "metadata": {},
   "source": [
    "Some of the popular languages that Data Scientists use are:\n",
    "1. Python\n",
    "1. R\n",
    "1. SQL"
   ]
  },
  {
   "cell_type": "markdown",
   "id": "4a515fc6",
   "metadata": {},
   "source": [
    "Some of the commonly used libraries used by Data Scientists include:\n",
    "1. Scikit-Learn\n",
    "1. Tensorflow\n",
    "1. Keras\n",
    "1. Pandas\n",
    "1. Matplotlib"
   ]
  },
  {
   "cell_type": "markdown",
   "id": "814a7d33",
   "metadata": {},
   "source": [
    "|Data Science Tools|\n",
    "| ------ |\n",
    "|Jupyter Notebook|\n",
    "|Apache Spark|\n",
    "|RStudio|"
   ]
  },
  {
   "cell_type": "markdown",
   "id": "84961c29",
   "metadata": {},
   "source": [
    "### Below are a few examples of evaluating arithmetic expressions in Python\n",
    "\n",
    "- \\+ symbol adds\n",
    "- \\- symbol subtracts\n",
    "- \\* symbol multiplies\n",
    "- / symbol devides"
   ]
  },
  {
   "cell_type": "code",
   "execution_count": 3,
   "id": "50c0ffc1",
   "metadata": {},
   "outputs": [
    {
     "data": {
      "text/plain": [
       "17"
      ]
     },
     "execution_count": 3,
     "metadata": {},
     "output_type": "execute_result"
    }
   ],
   "source": [
    "# This a simple arithmetic expression to mutiply then add integers\n",
    "(3*4)+5"
   ]
  },
  {
   "cell_type": "code",
   "execution_count": 10,
   "id": "829057f0",
   "metadata": {},
   "outputs": [
    {
     "name": "stdout",
     "output_type": "stream",
     "text": [
      "3.33 hours\n"
     ]
    }
   ],
   "source": [
    "minutes = 200;\n",
    "hour = 60;\n",
    "\n",
    "# This will convert 200 minutes to hours by diving by 60\n",
    "hours = minutes / hour\n",
    "\n",
    "print(round(hours, 2), 'hours')"
   ]
  },
  {
   "cell_type": "markdown",
   "id": "07bbaedf",
   "metadata": {},
   "source": [
    "**Objectives:**\n",
    "- Popular languages used by data scientists\n",
    "- Which tools to use\n",
    "- Control versions for better project management\n",
    "- Which libraries we can use for ML/DL"
   ]
  },
  {
   "cell_type": "markdown",
   "id": "2f1f2860",
   "metadata": {},
   "source": [
    "## Author: \n",
    "Arian Kalantari"
   ]
  },
  {
   "cell_type": "code",
   "execution_count": null,
   "id": "582360b5",
   "metadata": {},
   "outputs": [],
   "source": []
  }
 ],
 "metadata": {
  "kernelspec": {
   "display_name": "Python 3 (ipykernel)",
   "language": "python",
   "name": "python3"
  },
  "language_info": {
   "codemirror_mode": {
    "name": "ipython",
    "version": 3
   },
   "file_extension": ".py",
   "mimetype": "text/x-python",
   "name": "python",
   "nbconvert_exporter": "python",
   "pygments_lexer": "ipython3",
   "version": "3.11.5"
  }
 },
 "nbformat": 4,
 "nbformat_minor": 5
}
